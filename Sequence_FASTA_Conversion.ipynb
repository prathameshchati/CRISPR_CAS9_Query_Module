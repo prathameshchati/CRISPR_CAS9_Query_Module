{
 "cells": [
  {
   "cell_type": "markdown",
   "id": "f76aba8d",
   "metadata": {},
   "source": [
    "### Sequence to FASTA Conversion\n",
    "\n",
    "[Sequence Fasta Conversion Code](https://www.biostars.org/p/271977/)"
   ]
  },
  {
   "cell_type": "code",
   "execution_count": 3,
   "id": "11d6a3d8",
   "metadata": {},
   "outputs": [],
   "source": [
    "import sys\n",
    "\n",
    "#File input\n",
    "fileInput = open(sys.argv[1], \"r\")\n",
    "\n",
    "#File output\n",
    "fileOutput = open(sys.argv[2], \"w\")\n",
    "\n",
    "#Seq count\n",
    "count = 1 ;\n",
    "\n",
    "#Loop through each line in the input file\n",
    "print(\"Converting to FASTA...\")\n",
    "for strLine in fileInput:\n",
    "\n",
    "    #Strip the endline character from each input line\n",
    "    strLine = strLine.rstrip(\"\\n\")\n",
    "\n",
    "    #Output the header\n",
    "    fileOutput.write(\">\" + str(count) + \"\\n\")\n",
    "    fileOutput.write(strLine + \"\\n\")\n",
    "\n",
    "    count = count + 1\n",
    "print (\"Done.\")\n",
    "\n",
    "#Close the input and output file\n",
    "fileInput.close()\n",
    "fileOutput.close()"
   ]
  },
  {
   "cell_type": "code",
   "execution_count": null,
   "id": "b0614d04",
   "metadata": {},
   "outputs": [],
   "source": []
  }
 ],
 "metadata": {
  "kernelspec": {
   "display_name": "Python 3 (ipykernel)",
   "language": "python",
   "name": "python3"
  },
  "language_info": {
   "codemirror_mode": {
    "name": "ipython",
    "version": 3
   },
   "file_extension": ".py",
   "mimetype": "text/x-python",
   "name": "python",
   "nbconvert_exporter": "python",
   "pygments_lexer": "ipython3",
   "version": "3.9.6"
  }
 },
 "nbformat": 4,
 "nbformat_minor": 5
}
